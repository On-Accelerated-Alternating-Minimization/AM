{
  "nbformat": 4,
  "nbformat_minor": 0,
  "metadata": {
    "kernelspec": {
      "display_name": "Python 3",
      "language": "python",
      "name": "python3"
    },
    "language_info": {
      "codemirror_mode": {
        "name": "ipython",
        "version": 3
      },
      "file_extension": ".py",
      "mimetype": "text/x-python",
      "name": "python",
      "nbconvert_exporter": "python",
      "pygments_lexer": "ipython3",
      "version": "3.7.4"
    },
    "colab": {
      "name": "plot.ipynb",
      "provenance": [],
      "collapsed_sections": []
    }
  },
  "cells": [
    {
      "cell_type": "code",
      "metadata": {
        "id": "7oaSdxdiXQk6",
        "colab_type": "code",
        "colab": {}
      },
      "source": [
        "import numpy as np\n",
        "from scipy.spatial.distance import cdist\n",
        "import math\n",
        "%matplotlib inline\n",
        "import matplotlib.pyplot as plt\n",
        "import copy\n",
        "from numpy import linalg\n",
        "import time\n",
        "\n",
        "def pltt(data, labels, colors, n_grid=-1):\n",
        "    n_algs = len(data)\n",
        "    \n",
        "    x_max = np.zeros(n_algs, np.float64)\n",
        "    x_min = np.zeros(n_algs, np.float64)\n",
        "    for k in range(n_algs):\n",
        "        x_arrays, y_arrays = [], []\n",
        "        \n",
        "        if len(data[k])==1:\n",
        "            y_arrays = data[k][0]\n",
        "            for i in range(len(y_arrays)):\n",
        "                x_arrays.append(np.arange(len(y_arrays[i])))\n",
        "        elif len(data[k])==2:\n",
        "            x_arrays = data[k][0]\n",
        "            y_arrays = data[k][1]\n",
        "            \n",
        "        for i in range(len(x_arrays)):\n",
        "            x_max[k] = min(x_arrays[i][-1], x_arrays[i-1][-1])\n",
        "            x_min[k] = max(x_arrays[i][0], x_arrays[i-1][0])\n",
        "    \n",
        "    x_min=max(x_min)\n",
        "    x_max=min(x_max)\n",
        "    \n",
        "    n_grid=6\n",
        "    x_grid = np.linspace(x_min, x_max, n_grid)\n",
        "    \n",
        "    y_mean = np.zeros((n_algs, n_grid), np.float64)\n",
        "    y_max = np.zeros((n_algs, n_grid), np.float64)\n",
        "    y_min = np.zeros((n_algs, n_grid), np.float64)\n",
        "    std_dev=np.zeros_like(y_mean)\n",
        "    \n",
        "    for k in range(n_algs):\n",
        "        x_arrays, y_arrays = [], []\n",
        "        \n",
        "        if len(data[k])==1:\n",
        "            y_arrays = data[k][0]\n",
        "            for i in range(len(y_arrays)):\n",
        "                x_arrays.append(np.arange(len(y_arrays[i])))\n",
        "        elif len(data[k])==2:\n",
        "            x_arrays = data[k][0]\n",
        "            y_arrays = data[k][1]\n",
        "        x_arrays, y_arrays = np.array(x_arrays), np.array(y_arrays)\n",
        "        \n",
        "        \n",
        "        n=len(x_arrays) \n",
        "        \n",
        "        y_interp = np.zeros((n, n_grid), np.float64)\n",
        "        mask_array = []\n",
        "        for i in range(n):\n",
        "            mask = (x_arrays[i] >= x_min)*(x_arrays[i] <= x_max)\n",
        "            mask_array.append(mask)\n",
        "        \n",
        "        for i in range(n):\n",
        "            y_interp[i] = np.interp(x_grid, (x_arrays[i])[mask_array[i]], (y_arrays[i])[mask_array[i]])\n",
        "            y_mean[k]+=y_interp[i]\n",
        "        \n",
        "        y_mean[k]/=n\n",
        "        \n",
        "        ### max-min var ###\n",
        "        #y_max[k] = y_interp.max(axis=0)\n",
        "        #y_min[k] = y_interp.min(axis=0)\n",
        "        \n",
        "        for i in range(n):\n",
        "            std_dev[k] += (y_interp[i] - y_mean[k])**2\n",
        "        std_dev[k] /= (n-1)\n",
        "        std_dev[k] = np.sqrt(std_dev[k])\n",
        "        #y_max[k] = y_mean[k] + std_dev[k]\n",
        "        #y_min[k] = y_mean[k] - std_dev[k]\n",
        "        #f_opt = min(y_min[k].min(), y_min[k-1].min())\n",
        "    f_opt = y_mean.min()\n",
        "    #y_mean-=f_opt\n",
        "\n",
        "    ### std var ###\n",
        "    y_max = y_mean + std_dev\n",
        "    y_min = y_mean - std_dev\n",
        "    \n",
        "    \n",
        "    \n",
        "    fig, ax = plt.subplots()\n",
        "    for k in range(n_algs):\n",
        "        ax.plot(x_grid, y_mean[k], color= colors[k], label=labels[k])\n",
        "        ax.fill_between(x_grid, y_min[k], y_max[k], color=colors[k], alpha=0.3, linewidth=0)\n",
        "        \n",
        "    ax.set_xlabel(r'1/$\\varepsilon$, ')\n",
        "    ax.set_ylabel('required time')\n",
        "    leg = ax.legend();\n",
        "    ax.grid(axis='both')\n",
        "\n",
        "    #plt.grid(True)\n",
        "    plt.savefig('/content/drive/My Drive/colab/ACC-SIN-std.png', dpi=200, bbox_extra_artists=(leg, ax), bbox_inches='tight')\n",
        "\n"
      ],
      "execution_count": 0,
      "outputs": []
    },
    {
      "cell_type": "code",
      "metadata": {
        "id": "DB63e-hHwQ8b",
        "colab_type": "code",
        "outputId": "151a2a5b-6a23-4291-8529-9bc999dadc49",
        "colab": {
          "base_uri": "https://localhost:8080/",
          "height": 34
        }
      },
      "source": [
        "x_array = np.linspace(1/2e-2, 1/4e-4, 6)"
      ],
      "execution_count": 9,
      "outputs": [
        {
          "output_type": "execute_result",
          "data": {
            "text/plain": [
              "array([  50.,  540., 1030., 1520., 2010., 2500.])"
            ]
          },
          "metadata": {
            "tags": []
          },
          "execution_count": 9
        }
      ]
    },
    {
      "cell_type": "code",
      "metadata": {
        "id": "RuxZkjTZY09x",
        "colab_type": "code",
        "colab": {
          "base_uri": "https://localhost:8080/",
          "height": 121
        },
        "outputId": "3c69f803-0455-4b2d-d5f1-94810f30600e"
      },
      "source": [
        "from google.colab import drive\n",
        "drive.mount('/content/drive')"
      ],
      "execution_count": 4,
      "outputs": [
        {
          "output_type": "stream",
          "text": [
            "Go to this URL in a browser: https://accounts.google.com/o/oauth2/auth?client_id=947318989803-6bn6qk8qdgf4n4g3pfee6491hc0brc4i.apps.googleusercontent.com&redirect_uri=urn%3aietf%3awg%3aoauth%3a2.0%3aoob&response_type=code&scope=email%20https%3a%2f%2fwww.googleapis.com%2fauth%2fdocs.test%20https%3a%2f%2fwww.googleapis.com%2fauth%2fdrive%20https%3a%2f%2fwww.googleapis.com%2fauth%2fdrive.photos.readonly%20https%3a%2f%2fwww.googleapis.com%2fauth%2fpeopleapi.readonly\n",
            "\n",
            "Enter your authorization code:\n",
            "··········\n",
            "Mounted at /content/drive\n"
          ],
          "name": "stdout"
        }
      ]
    },
    {
      "cell_type": "code",
      "metadata": {
        "id": "tp_CKW5mXQlu",
        "colab_type": "code",
        "outputId": "b2b72f2e-d81b-4497-de17-0837eaf9e4e1",
        "colab": {
          "base_uri": "https://localhost:8080/",
          "height": 121
        }
      },
      "source": [
        "data_to_compare = []\n",
        "n_algs = 6\n",
        "for i in range(n_algs):\n",
        "    #data_to_compare.append([[]])\n",
        "    data_to_compare.append([[],[]])\n",
        "    \n",
        "\n",
        "for k in range(5):\n",
        "    ### AGM ###\n",
        "    data_to_compare[0][0].append(x_array)\n",
        "    y_array = np.load('/content/drive/My Drive/colab/'+'agm_'+str(k)+'.npy')\n",
        "    #y_array = np.log(y_array)\n",
        "    data_to_compare[0][1].append(y_array)\n",
        "    \n",
        "    ### green ###\n",
        "    data_to_compare[1][0].append(x_array)\n",
        "    y_array = np.load('/content/drive/My Drive/colab/'+'green_'+str(k)+'.npy')    \n",
        "    #y_array = np.log(y_array)\n",
        "    data_to_compare[1][1].append(y_array)\n",
        "    \n",
        "    \n",
        "    ### AAM ###\n",
        "    data_to_compare[2][0].append(x_array)\n",
        "    y_array = np.load('/content/drive/My Drive/colab/'+'aam_'+str(k)+'.npy')    \n",
        "    #y_array = np.log(y_array)\n",
        "    data_to_compare[2][1].append(y_array)\n",
        "\n",
        "    ### APD ###\n",
        "    data_to_compare[3][0].append(x_array)\n",
        "    y_array = np.load('/content/drive/My Drive/colab/'+'apd_'+str(k)+'.npy')    \n",
        "    #y_array = np.log(y_array)\n",
        "    data_to_compare[3][1].append(y_array)\n",
        "\n",
        "    \n",
        "\n",
        "    ### aar-dcd ###\n",
        "    data_to_compare[4][0].append(x_array)\n",
        "    y_array = np.load('/content/drive/My Drive/colab/'+'aar_'+str(k)+'.npy')    \n",
        "    #y_array = np.log(y_array)\n",
        "    data_to_compare[4][1].append(y_array)\n",
        "\n",
        "    \n",
        "    ### SIN ###\n",
        "    data_to_compare[5][0].append(x_array)\n",
        "    y_array = np.load('/content/drive/My Drive/colab/'+'sin_'+str(k)+'.npy')    \n",
        "    #y_array = np.log(y_array)\n",
        "    data_to_compare[5][1].append(y_array)\n",
        "    "
      ],
      "execution_count": 0,
      "outputs": [
        {
          "output_type": "stream",
          "text": [
            "Go to this URL in a browser: https://accounts.google.com/o/oauth2/auth?client_id=947318989803-6bn6qk8qdgf4n4g3pfee6491hc0brc4i.apps.googleusercontent.com&redirect_uri=urn%3aietf%3awg%3aoauth%3a2.0%3aoob&response_type=code&scope=email%20https%3a%2f%2fwww.googleapis.com%2fauth%2fdocs.test%20https%3a%2f%2fwww.googleapis.com%2fauth%2fdrive%20https%3a%2f%2fwww.googleapis.com%2fauth%2fdrive.photos.readonly%20https%3a%2f%2fwww.googleapis.com%2fauth%2fpeopleapi.readonly\n",
            "\n",
            "Enter your authorization code:\n",
            "··········\n",
            "Mounted at /content/drive\n"
          ],
          "name": "stdout"
        }
      ]
    },
    {
      "cell_type": "code",
      "metadata": {
        "id": "0azK5P-TXQlz",
        "colab_type": "code",
        "outputId": "c254cc10-43ae-4e2f-a6e0-9c7c5026e02c",
        "colab": {
          "base_uri": "https://localhost:8080/",
          "height": 282
        }
      },
      "source": [
        "labels=['AAM-LS', 'Greenkhorn', 'AAM-A', 'APDAGD', 'AAR-BCD', 'Sinkhorn'] \n",
        "colors=['red', 'blue', 'green', 'black', 'purple', 'orange']\n",
        "\n",
        "pltt(data_to_compare, labels=labels, colors=colors)\n"
      ],
      "execution_count": 0,
      "outputs": [
        {
          "output_type": "display_data",
          "data": {
            "image/png": "[encoded data removed]",
            "text/plain": [
              "<Figure size 432x288 with 1 Axes>"
            ]
          },
          "metadata": {
            "tags": [],
            "needs_background": "light"
          }
        }
      ]
    },
    {
      "cell_type": "code",
      "metadata": {
        "id": "s-vpo4qVLfQu",
        "colab_type": "code",
        "colab": {}
      },
      "source": [
        ""
      ],
      "execution_count": 0,
      "outputs": []
    }
  ]
}